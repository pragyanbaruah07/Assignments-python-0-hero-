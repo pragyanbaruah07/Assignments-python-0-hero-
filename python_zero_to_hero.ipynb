{
  "nbformat": 4,
  "nbformat_minor": 0,
  "metadata": {
    "colab": {
      "name": "python_zero_to_hero.ipynb",
      "provenance": []
    },
    "kernelspec": {
      "name": "python3",
      "display_name": "Python 3"
    },
    "language_info": {
      "name": "python"
    }
  },
  "cells": [
    {
      "cell_type": "code",
      "execution_count": 7,
      "metadata": {
        "id": "40J2d0NCekgF",
        "colab": {
          "base_uri": "https://localhost:8080/"
        },
        "outputId": "036d5a39-847d-4378-810e-3188106ce822"
      },
      "outputs": [
        {
          "output_type": "stream",
          "name": "stdout",
          "text": [
            "Enter values: 20 30 50 \n",
            "sum : 100\n"
          ]
        }
      ],
      "source": [
        "x = [int(i) for i in input('Enter values: ').split()]\n",
        "\n",
        "print('sum :' , sum(x))"
      ]
    }
  ]
}