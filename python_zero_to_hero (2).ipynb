{
  "nbformat": 4,
  "nbformat_minor": 0,
  "metadata": {
    "colab": {
      "name": "python_zero_to_hero.ipynb",
      "provenance": []
    },
    "kernelspec": {
      "name": "python3",
      "display_name": "Python 3"
    },
    "language_info": {
      "name": "python"
    }
  },
  "cells": [
    {
      "cell_type": "code",
      "source": [
        "x='My name is shelby'\n",
        "print(x)\n",
        "a=input('Type any single character from the phrase : ').lower()\n",
        "if (a==x[0] or a==x[1] or a==x[6] or a==x[9]):\n",
        "  print('You won the lottery')\n",
        "else:\n",
        " print('Oops u didnt win any prize')\n"
      ],
      "metadata": {
        "colab": {
          "base_uri": "https://localhost:8080/"
        },
        "id": "0d63Zu9UediB",
        "outputId": "d9a9b7a4-4a73-44fb-c736-6509fe2b75c1"
      },
      "execution_count": 81,
      "outputs": [
        {
          "output_type": "stream",
          "name": "stdout",
          "text": [
            "My name is shelby\n",
            "Type any single character from the phrase : s\n",
            "You won the lottery\n"
          ]
        }
      ]
    }
  ]
}