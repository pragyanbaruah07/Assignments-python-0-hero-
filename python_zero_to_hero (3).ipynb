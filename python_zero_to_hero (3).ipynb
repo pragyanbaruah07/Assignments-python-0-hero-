{
  "nbformat": 4,
  "nbformat_minor": 0,
  "metadata": {
    "colab": {
      "name": "python_zero_to_hero.ipynb",
      "provenance": []
    },
    "kernelspec": {
      "name": "python3",
      "display_name": "Python 3"
    },
    "language_info": {
      "name": "python"
    }
  },
  "cells": [
    {
      "cell_type": "code",
      "source": [
        "s = 'Hello'\n",
        "d = {}\n",
        "\n",
        "for i in s:\n",
        "  d[i] = d.get(i, 0) + 1\n",
        "\n",
        "  x = max(d ,key=d.get)\n",
        "print('Maximum occuring character is : ',x)\n",
        "\n"
      ],
      "metadata": {
        "colab": {
          "base_uri": "https://localhost:8080/"
        },
        "id": "FDFti4_BGbj_",
        "outputId": "dcfd8870-6453-461f-b3a6-0944620e8c2f"
      },
      "execution_count": 53,
      "outputs": [
        {
          "output_type": "stream",
          "name": "stdout",
          "text": [
            "Maximum occuring character is :  l\n"
          ]
        }
      ]
    }
  ]
}