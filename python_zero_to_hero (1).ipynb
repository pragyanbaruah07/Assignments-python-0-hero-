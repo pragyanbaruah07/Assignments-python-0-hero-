{
  "nbformat": 4,
  "nbformat_minor": 0,
  "metadata": {
    "colab": {
      "name": "python_zero_to_hero.ipynb",
      "provenance": []
    },
    "kernelspec": {
      "name": "python3",
      "display_name": "Python 3"
    },
    "language_info": {
      "name": "python"
    }
  },
  "cells": [
    {
      "cell_type": "code",
      "source": [
        "#lottery program\n",
        "#the phrase is (h,e,l,l,o,c,o,d,e,r,s)\n",
        "#its indices    0 1 2 3 4 5 6 7 8 9 10\n",
        "#according to question if Index of characters assigned with prize are as: 0, 1, 4, 6, therefore the soluiton is give below\n",
        "x = input('Enter any one character from the word hello coders : ')\n",
        "if (x=='h' or x=='e' or x=='o' or x=='c' or x=='d'):\n",
        "  print('You won the lottery')\n",
        "else:\n",
        " print('Oops u didnt win any prize')"
      ],
      "metadata": {
        "colab": {
          "base_uri": "https://localhost:8080/"
        },
        "id": "I_RpiHN4J0P_",
        "outputId": "b176cbe6-0bb4-481b-de6b-49d2fbdafb54"
      },
      "execution_count": 64,
      "outputs": [
        {
          "output_type": "stream",
          "name": "stdout",
          "text": [
            "Enter any one character from the word hello coders : h\n",
            "You won the lottery\n"
          ]
        }
      ]
    }
  ]
}