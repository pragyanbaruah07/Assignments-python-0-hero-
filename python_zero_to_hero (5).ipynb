{
  "nbformat": 4,
  "nbformat_minor": 0,
  "metadata": {
    "colab": {
      "name": "python_zero_to_hero.ipynb",
      "provenance": []
    },
    "kernelspec": {
      "name": "python3",
      "display_name": "Python 3"
    },
    "language_info": {
      "name": "python"
    }
  },
  "cells": [
    {
      "cell_type": "code",
      "source": [
        "#To find  out the elements from a list that are divisible by 3 & 5.\n",
        "\n",
        "def fun(n):\n",
        "  return n % 3 == 0 or n % 5 ==0\n",
        "li=[1, 3 ,5 , 7, 8, 10 , 12, 15, 18 ,24, 25, 30]\n",
        "print(list(filter(fun, li)))\n",
        "\n"
      ],
      "metadata": {
        "colab": {
          "base_uri": "https://localhost:8080/"
        },
        "id": "tyS5tT6dW3Rj",
        "outputId": "9169b4c1-9d85-4db6-c58b-78a8817da7cd"
      },
      "execution_count": 10,
      "outputs": [
        {
          "output_type": "stream",
          "name": "stdout",
          "text": [
            "[3, 5, 10, 12, 15, 18, 24, 25, 30]\n"
          ]
        }
      ]
    }
  ]
}