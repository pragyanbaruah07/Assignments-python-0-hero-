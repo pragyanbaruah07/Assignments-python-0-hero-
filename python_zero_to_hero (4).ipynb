{
  "nbformat": 4,
  "nbformat_minor": 0,
  "metadata": {
    "colab": {
      "name": "python_zero_to_hero.ipynb",
      "provenance": []
    },
    "kernelspec": {
      "name": "python3",
      "display_name": "Python 3"
    },
    "language_info": {
      "name": "python"
    }
  },
  "cells": [
    {
      "cell_type": "code",
      "source": [
        "def f(n):\n",
        "  f=1\n",
        "  if n < 0:\n",
        "    print(\"It is a negative no.\")\n",
        "  elif n==0:\n",
        "    print(\"the factorial of 0 is 1\")\n",
        "  else: \n",
        "    for i in range(1 , n + 1):\n",
        "      f= f * i\n",
        "      print(\"Factorial of\", n ,\"is :\" , f)\n",
        "\n",
        "\n",
        "n = int(input(\"Enter a number :\"))\n",
        "f(n)\n",
        "      "
      ],
      "metadata": {
        "colab": {
          "base_uri": "https://localhost:8080/"
        },
        "id": "i59x1FtwQoWo",
        "outputId": "49cc6ae3-a117-4e9e-ca84-5da7f85edb8e"
      },
      "execution_count": 51,
      "outputs": [
        {
          "output_type": "stream",
          "name": "stdout",
          "text": [
            "Enter a number :5\n",
            "Factorial of 5 is : 1\n",
            "Factorial of 5 is : 2\n",
            "Factorial of 5 is : 6\n",
            "Factorial of 5 is : 24\n",
            "Factorial of 5 is : 120\n"
          ]
        }
      ]
    }
  ]
}