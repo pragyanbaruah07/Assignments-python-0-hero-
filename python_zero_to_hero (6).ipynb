{
  "nbformat": 4,
  "nbformat_minor": 0,
  "metadata": {
    "colab": {
      "name": "python_zero_to_hero.ipynb",
      "provenance": []
    },
    "kernelspec": {
      "name": "python3",
      "display_name": "Python 3"
    },
    "language_info": {
      "name": "python"
    }
  },
  "cells": [
    {
      "cell_type": "code",
      "source": [
        "#Write a decorator, mod_div() that will add a feature to the above function \n",
        "#which will make sure that numerator will be always greater than the denominator.\n",
        "\n",
        "\n",
        "def mod_div(fun):\n",
        "  def denom(a,b):\n",
        "    if a < b:\n",
        "      a, b = b, a\n",
        "    return fun(a, b) \n",
        "  return denom\n",
        "\n",
        "@mod_div\n",
        "def div(a, b):\n",
        " return a // b\n",
        "\n",
        "a, b =(int(i)for i in input('Enter two Numbers :').split())\n",
        "\n",
        "print(div(a, b))"
      ],
      "metadata": {
        "colab": {
          "base_uri": "https://localhost:8080/"
        },
        "id": "hClbkEZ066ZX",
        "outputId": "07dde006-6946-4e14-ee9a-e652667bd4c0"
      },
      "execution_count": 29,
      "outputs": [
        {
          "output_type": "stream",
          "name": "stdout",
          "text": [
            "Enter two Numbers :3 8\n",
            "2\n"
          ]
        }
      ]
    }
  ]
}